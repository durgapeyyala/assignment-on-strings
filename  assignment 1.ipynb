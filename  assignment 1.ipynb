{
 "cells": [
  {
   "cell_type": "code",
   "execution_count": 1,
   "id": "cedecf37",
   "metadata": {},
   "outputs": [
    {
     "name": "stdout",
     "output_type": "stream",
     "text": [
      "enter the name \tdurga\n"
     ]
    },
    {
     "data": {
      "text/plain": [
       "'durga'"
      ]
     },
     "execution_count": 1,
     "metadata": {},
     "output_type": "execute_result"
    }
   ],
   "source": [
    "#write a python program to covert a string into lower case(dynamic)\n",
    "str=input(\"enter the name \\t\")\n",
    "str.lower()"
   ]
  },
  {
   "cell_type": "code",
   "execution_count": 2,
   "id": "ce3215e9",
   "metadata": {},
   "outputs": [
    {
     "name": "stdout",
     "output_type": "stream",
     "text": [
      " PyThOn\n"
     ]
    }
   ],
   "source": [
    "#2.Write a python program to convert only odd\n",
    "#indexed characters to lower case\n",
    "#Ex:- PYTHON\n",
    "#Output: - PyThOn\n",
    "str1=\"PYTHON\"\n",
    "v=\" \"\n",
    "for i in range(6):\n",
    "    if i%2==0:\n",
    "        v=v+str1[i].upper()\n",
    "    else:\n",
    "        v=v+str1[i].lower()\n",
    "print(v)"
   ]
  },
  {
   "cell_type": "code",
   "execution_count": 3,
   "id": "a9f4a8f3",
   "metadata": {},
   "outputs": [
    {
     "name": "stdout",
     "output_type": "stream",
     "text": [
      " pYtHoN\n"
     ]
    }
   ],
   "source": [
    "#3.Write a python program to convert only even indexed characters to lower case Ex:- PYTHON Output: - pYtHoN\n",
    "str2=\"PYTHON\"\n",
    "x=\" \"\n",
    "for i in range(6):\n",
    "    if i%2==0:\n",
    "        x=x+str2[i].lower()\n",
    "    else:\n",
    "        x=x+str2[i].upper()\n",
    "print(x)"
   ]
  },
  {
   "cell_type": "code",
   "execution_count": 4,
   "id": "6c09cb39",
   "metadata": {},
   "outputs": [
    {
     "name": "stdout",
     "output_type": "stream",
     "text": [
      " pYtHoN\n"
     ]
    }
   ],
   "source": [
    "#4.Write a python program to convert only odd indexed characters to upper case Ex:- python Output: - pYtHoN\n",
    "str=\"python\"\n",
    "v1=\" \"\n",
    "for x in range(6):\n",
    "    if x%2==0:\n",
    "        v1=v1+str[x].lower()\n",
    "    else:\n",
    "        v1=v1+str[x].upper()\n",
    "print(v1)\n"
   ]
  },
  {
   "cell_type": "code",
   "execution_count": 5,
   "id": "44978f38",
   "metadata": {},
   "outputs": [
    {
     "name": "stdout",
     "output_type": "stream",
     "text": [
      " PyThOn\n"
     ]
    }
   ],
   "source": [
    "#5.Write a python program to convert only even indexed characters to upper case Ex:- python Output: - PyThOn\n",
    "str=\"python\"\n",
    "v=\" \"\n",
    "for y in range(6):\n",
    "    if y%2==0:\n",
    "        v=v+str[y].upper()\n",
    "    else:\n",
    "        v=v+str[y].lower()\n",
    "print(v)"
   ]
  },
  {
   "cell_type": "code",
   "execution_count": 6,
   "id": "c19862b4",
   "metadata": {},
   "outputs": [
    {
     "name": "stdout",
     "output_type": "stream",
     "text": [
      "enter your namesai\n",
      "enter your age24\n",
      "enter your phone number6305756803\n",
      "enter your father namesrinu\n",
      "enter your mother namenayomi\n"
     ]
    },
    {
     "data": {
      "text/plain": [
       "\"My name is sai My age is 24 My phone number is 6305756803 My father's name is srinu My mother's name is nayomi\""
      ]
     },
     "execution_count": 6,
     "metadata": {},
     "output_type": "execute_result"
    }
   ],
   "source": [
    "#6.Write a python program where you have different variable which contains your name,sex,age, phone no ,fathers name and mothers \n",
    "#name.And by using this variable create a variable named bio-data where you will use all\n",
    "#this variable\n",
    "#Ex:-print(bio-data)\n",
    "#Output:- My name is …., My age is ….,My\n",
    "#phone-no is ….,my fathers name is …,and my\n",
    "#mothers name is……\n",
    "name=input(\"enter your name\")\n",
    "age=input(\"enter your age\")\n",
    "phonenumb=int(input(\"enter your phone number\"))\n",
    "fathername=input(\"enter your father name\")\n",
    "mothername=input(\"enter your mother name\")\n",
    "bio_data=\"My name is {} My age is {} My phone number is {} My father's name is {} My mother's name is {}\".format(name,age,phonenumb,fathername,mothername)\n",
    "bio_data"
   ]
  },
  {
   "cell_type": "code",
   "execution_count": 7,
   "id": "33f6f8ea",
   "metadata": {},
   "outputs": [
    {
     "data": {
      "text/plain": [
       "3"
      ]
     },
     "execution_count": 7,
     "metadata": {},
     "output_type": "execute_result"
    }
   ],
   "source": [
    "#7.Write a python program to count how many times “@” occurred\n",
    "str=\"name1.@gmail.com,name2.@gmail.com,name3.@gmail.com\"\n",
    "str.count(\"@\")"
   ]
  },
  {
   "cell_type": "code",
   "execution_count": 8,
   "id": "a91669f4",
   "metadata": {},
   "outputs": [
    {
     "data": {
      "text/plain": [
       "'name1 ,name2 ,name3 '"
      ]
     },
     "execution_count": 8,
     "metadata": {},
     "output_type": "execute_result"
    }
   ],
   "source": [
    "#8.Write a python program to get only names from the string “name1.@gmail.com,name2.@gmail.com,name 3.@gmail.com” Output-name1,name2,name3\n",
    "str=\"name1.@gmail.com,name2.@gmail.com,name3.@gmail.com\"\n",
    "v=str.split(\".@gmail.com\")\n",
    "x=\" \".join(v)\n",
    "x\n"
   ]
  },
  {
   "cell_type": "code",
   "execution_count": 9,
   "id": "043b66a1",
   "metadata": {},
   "outputs": [
    {
     "data": {
      "text/plain": [
       "'mei'"
      ]
     },
     "execution_count": 9,
     "metadata": {},
     "output_type": "execute_result"
    }
   ],
   "source": [
    "#9.Given a string of odd length greater that 9,return a new string made of the middle three characters of a given String\n",
    "#Ex:- “mynameissan\n",
    "#Output:- “mei”\n",
    "str=\"mynameissan\"\n",
    "len(str)//2\n",
    "str[4]+str[5]+str[6]"
   ]
  },
  {
   "cell_type": "code",
   "execution_count": 10,
   "id": "9ff1eeab",
   "metadata": {},
   "outputs": [
    {
     "data": {
      "text/plain": [
       "'msayn'"
      ]
     },
     "execution_count": 10,
     "metadata": {},
     "output_type": "execute_result"
    }
   ],
   "source": [
    "#10. Write a python program to insert a 2 string in the middle of 1 string Ex:-Str1=”myn” Str2=”sa”\n",
    "#Output:-“msayn”\n",
    "str1=\"myn\"\n",
    "str2=\"sa\"\n",
    "str1[0]+str2+str1[len(str1)//2]+str1[2]\n"
   ]
  },
  {
   "cell_type": "code",
   "execution_count": 11,
   "id": "d0b71103",
   "metadata": {},
   "outputs": [
    {
     "data": {
      "text/plain": [
       "'bcdfghjklmnpqrstvwxyz'"
      ]
     },
     "execution_count": 11,
     "metadata": {},
     "output_type": "execute_result"
    }
   ],
   "source": [
    "#11. Write a program to remove vowels from the entire alphabets\n",
    "#Ex:- “abcdefghijklmnopqrstuvwxyz”\n",
    "#Output:- “bcdfghjklmnpqrstvwxyz”\n",
    "str=\"abcdefghijklmnopqrstuvwxyz\"\n",
    "str.replace('a','').replace('e','').replace('i','').replace('o','').replace('u','')"
   ]
  },
  {
   "cell_type": "code",
   "execution_count": 16,
   "id": "c4c6403d",
   "metadata": {},
   "outputs": [
    {
     "data": {
      "text/plain": [
       "'name1,name2,name3'"
      ]
     },
     "execution_count": 16,
     "metadata": {},
     "output_type": "execute_result"
    }
   ],
   "source": [
    "#8.Write a python program to get only names from the string “name1.@gmail.com,name2.@gmail.com,name 3.@gmail.com” Output-name1,name2,name3\n",
    "str=\"name1.@gmail.com,name2.@gmail.com,name3.@gmail.com\"\n",
    "str.replace(\".@gmail.com\",\"\")\n",
    "\n"
   ]
  },
  {
   "cell_type": "code",
   "execution_count": null,
   "id": "684e2966",
   "metadata": {},
   "outputs": [],
   "source": []
  }
 ],
 "metadata": {
  "kernelspec": {
   "display_name": "Python 3 (ipykernel)",
   "language": "python",
   "name": "python3"
  },
  "language_info": {
   "codemirror_mode": {
    "name": "ipython",
    "version": 3
   },
   "file_extension": ".py",
   "mimetype": "text/x-python",
   "name": "python",
   "nbconvert_exporter": "python",
   "pygments_lexer": "ipython3",
   "version": "3.9.13"
  }
 },
 "nbformat": 4,
 "nbformat_minor": 5
}
